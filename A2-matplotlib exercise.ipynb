{
 "cells": [
  {
   "cell_type": "code",
   "execution_count": 2,
   "metadata": {},
   "outputs": [],
   "source": [
    "import numpy as np"
   ]
  },
  {
   "cell_type": "code",
   "execution_count": 3,
   "metadata": {},
   "outputs": [],
   "source": [
    "import pandas as pd"
   ]
  },
  {
   "cell_type": "code",
   "execution_count": 4,
   "metadata": {},
   "outputs": [],
   "source": [
    "import seaborn as sns"
   ]
  },
  {
   "cell_type": "code",
   "execution_count": 5,
   "metadata": {},
   "outputs": [],
   "source": [
    "import matplotlib.pyplot as plt "
   ]
  },
  {
   "cell_type": "code",
   "execution_count": 6,
   "metadata": {},
   "outputs": [],
   "source": [
    "%matplotlib inline"
   ]
  },
  {
   "cell_type": "code",
   "execution_count": 7,
   "metadata": {},
   "outputs": [],
   "source": [
    "df=pd.read_csv('master.csv',index_col=0)"
   ]
  },
  {
   "cell_type": "code",
   "execution_count": 8,
   "metadata": {},
   "outputs": [
    {
     "data": {
      "text/html": [
       "<div>\n",
       "<style scoped>\n",
       "    .dataframe tbody tr th:only-of-type {\n",
       "        vertical-align: middle;\n",
       "    }\n",
       "\n",
       "    .dataframe tbody tr th {\n",
       "        vertical-align: top;\n",
       "    }\n",
       "\n",
       "    .dataframe thead th {\n",
       "        text-align: right;\n",
       "    }\n",
       "</style>\n",
       "<table border=\"1\" class=\"dataframe\">\n",
       "  <thead>\n",
       "    <tr style=\"text-align: right;\">\n",
       "      <th></th>\n",
       "      <th>year</th>\n",
       "      <th>sex</th>\n",
       "      <th>age</th>\n",
       "      <th>suicides_no</th>\n",
       "      <th>population</th>\n",
       "      <th>suicides/100k pop</th>\n",
       "      <th>country-year</th>\n",
       "      <th>HDI for year</th>\n",
       "      <th>gdp_for_year ($)</th>\n",
       "      <th>gdp_per_capita ($)</th>\n",
       "      <th>generation</th>\n",
       "    </tr>\n",
       "    <tr>\n",
       "      <th>country</th>\n",
       "      <th></th>\n",
       "      <th></th>\n",
       "      <th></th>\n",
       "      <th></th>\n",
       "      <th></th>\n",
       "      <th></th>\n",
       "      <th></th>\n",
       "      <th></th>\n",
       "      <th></th>\n",
       "      <th></th>\n",
       "      <th></th>\n",
       "    </tr>\n",
       "  </thead>\n",
       "  <tbody>\n",
       "    <tr>\n",
       "      <th>Albania</th>\n",
       "      <td>1987</td>\n",
       "      <td>male</td>\n",
       "      <td>15-24 years</td>\n",
       "      <td>21</td>\n",
       "      <td>312900</td>\n",
       "      <td>6.71</td>\n",
       "      <td>Albania1987</td>\n",
       "      <td>NaN</td>\n",
       "      <td>2,156,624,900</td>\n",
       "      <td>796</td>\n",
       "      <td>Generation X</td>\n",
       "    </tr>\n",
       "    <tr>\n",
       "      <th>Albania</th>\n",
       "      <td>1987</td>\n",
       "      <td>male</td>\n",
       "      <td>35-54 years</td>\n",
       "      <td>16</td>\n",
       "      <td>308000</td>\n",
       "      <td>5.19</td>\n",
       "      <td>Albania1987</td>\n",
       "      <td>NaN</td>\n",
       "      <td>2,156,624,900</td>\n",
       "      <td>796</td>\n",
       "      <td>Silent</td>\n",
       "    </tr>\n",
       "    <tr>\n",
       "      <th>Albania</th>\n",
       "      <td>1987</td>\n",
       "      <td>female</td>\n",
       "      <td>15-24 years</td>\n",
       "      <td>14</td>\n",
       "      <td>289700</td>\n",
       "      <td>4.83</td>\n",
       "      <td>Albania1987</td>\n",
       "      <td>NaN</td>\n",
       "      <td>2,156,624,900</td>\n",
       "      <td>796</td>\n",
       "      <td>Generation X</td>\n",
       "    </tr>\n",
       "    <tr>\n",
       "      <th>Albania</th>\n",
       "      <td>1987</td>\n",
       "      <td>male</td>\n",
       "      <td>75+ years</td>\n",
       "      <td>1</td>\n",
       "      <td>21800</td>\n",
       "      <td>4.59</td>\n",
       "      <td>Albania1987</td>\n",
       "      <td>NaN</td>\n",
       "      <td>2,156,624,900</td>\n",
       "      <td>796</td>\n",
       "      <td>G.I. Generation</td>\n",
       "    </tr>\n",
       "    <tr>\n",
       "      <th>Albania</th>\n",
       "      <td>1987</td>\n",
       "      <td>male</td>\n",
       "      <td>25-34 years</td>\n",
       "      <td>9</td>\n",
       "      <td>274300</td>\n",
       "      <td>3.28</td>\n",
       "      <td>Albania1987</td>\n",
       "      <td>NaN</td>\n",
       "      <td>2,156,624,900</td>\n",
       "      <td>796</td>\n",
       "      <td>Boomers</td>\n",
       "    </tr>\n",
       "  </tbody>\n",
       "</table>\n",
       "</div>"
      ],
      "text/plain": [
       "         year     sex          age  suicides_no  population  \\\n",
       "country                                                       \n",
       "Albania  1987    male  15-24 years           21      312900   \n",
       "Albania  1987    male  35-54 years           16      308000   \n",
       "Albania  1987  female  15-24 years           14      289700   \n",
       "Albania  1987    male    75+ years            1       21800   \n",
       "Albania  1987    male  25-34 years            9      274300   \n",
       "\n",
       "         suicides/100k pop country-year  HDI for year  gdp_for_year ($)   \\\n",
       "country                                                                    \n",
       "Albania               6.71  Albania1987           NaN      2,156,624,900   \n",
       "Albania               5.19  Albania1987           NaN      2,156,624,900   \n",
       "Albania               4.83  Albania1987           NaN      2,156,624,900   \n",
       "Albania               4.59  Albania1987           NaN      2,156,624,900   \n",
       "Albania               3.28  Albania1987           NaN      2,156,624,900   \n",
       "\n",
       "         gdp_per_capita ($)       generation  \n",
       "country                                       \n",
       "Albania                 796     Generation X  \n",
       "Albania                 796           Silent  \n",
       "Albania                 796     Generation X  \n",
       "Albania                 796  G.I. Generation  \n",
       "Albania                 796          Boomers  "
      ]
     },
     "execution_count": 8,
     "metadata": {},
     "output_type": "execute_result"
    }
   ],
   "source": [
    "df.head()"
   ]
  },
  {
   "cell_type": "code",
   "execution_count": 9,
   "metadata": {},
   "outputs": [
    {
     "data": {
      "text/plain": [
       "array([[<AxesSubplot:title={'center':'year'}>,\n",
       "        <AxesSubplot:title={'center':'suicides_no'}>],\n",
       "       [<AxesSubplot:title={'center':'population'}>,\n",
       "        <AxesSubplot:title={'center':'suicides/100k pop'}>],\n",
       "       [<AxesSubplot:title={'center':'HDI for year'}>,\n",
       "        <AxesSubplot:title={'center':'gdp_per_capita ($)'}>]],\n",
       "      dtype=object)"
      ]
     },
     "execution_count": 9,
     "metadata": {},
     "output_type": "execute_result"
    },
    {
     "data": {
      "image/png": "[encoded data removed]",
      "text/plain": [
       "<Figure size 1080x1440 with 6 Axes>"
      ]
     },
     "metadata": {
      "needs_background": "light"
     },
     "output_type": "display_data"
    }
   ],
   "source": [
    "df.hist(bins=40,figsize=(15,20))"
   ]
  },
  {
   "cell_type": "code",
   "execution_count": 16,
   "metadata": {},
   "outputs": [
    {
     "data": {
      "text/plain": [
       "array([[<AxesSubplot:title={'center':'year'}>,\n",
       "        <AxesSubplot:title={'center':'suicides_no'}>],\n",
       "       [<AxesSubplot:title={'center':'population'}>,\n",
       "        <AxesSubplot:title={'center':'suicides/100k pop'}>],\n",
       "       [<AxesSubplot:title={'center':'HDI for year'}>,\n",
       "        <AxesSubplot:title={'center':'gdp_per_capita ($)'}>]],\n",
       "      dtype=object)"
      ]
     },
     "execution_count": 16,
     "metadata": {},
     "output_type": "execute_result"
    },
    {
     "data": {
      "image/png": "[encoded data removed]",
      "text/plain": [
       "<Figure size 1080x1440 with 6 Axes>"
      ]
     },
     "metadata": {
      "needs_background": "light"
     },
     "output_type": "display_data"
    }
   ],
   "source": [
    "df.hist(bins=5,figsize=(15,20))#few bins"
   ]
  },
  {
   "cell_type": "code",
   "execution_count": 12,
   "metadata": {},
   "outputs": [
    {
     "data": {
      "text/plain": [
       "<AxesSubplot:>"
      ]
     },
     "execution_count": 12,
     "metadata": {},
     "output_type": "execute_result"
    },
    {
     "data": {
      "image/png": "[encoded data removed]",
      "text/plain": [
       "<Figure size 432x288 with 1 Axes>"
      ]
     },
     "metadata": {
      "needs_background": "light"
     },
     "output_type": "display_data"
    }
   ],
   "source": [
    "df['age'].hist()"
   ]
  },
  {
   "cell_type": "code",
   "execution_count": 17,
   "metadata": {},
   "outputs": [
    {
     "data": {
      "text/plain": [
       "array([[<AxesSubplot:title={'center':'year'}>,\n",
       "        <AxesSubplot:title={'center':'suicides_no'}>],\n",
       "       [<AxesSubplot:title={'center':'population'}>,\n",
       "        <AxesSubplot:title={'center':'suicides/100k pop'}>],\n",
       "       [<AxesSubplot:title={'center':'HDI for year'}>,\n",
       "        <AxesSubplot:title={'center':'gdp_per_capita ($)'}>]],\n",
       "      dtype=object)"
      ]
     },
     "execution_count": 17,
     "metadata": {},
     "output_type": "execute_result"
    },
    {
     "data": {
      "image/png": "[encoded data removed]",
      "text/plain": [
       "<Figure size 1080x1440 with 6 Axes>"
      ]
     },
     "metadata": {
      "needs_background": "light"
     },
     "output_type": "display_data"
    }
   ],
   "source": [
    "df.hist(bins=200,figsize=(15,20))#many bins"
   ]
  },
  {
   "cell_type": "code",
   "execution_count": 18,
   "metadata": {},
   "outputs": [
    {
     "data": {
      "text/html": [
       "<div>\n",
       "<style scoped>\n",
       "    .dataframe tbody tr th:only-of-type {\n",
       "        vertical-align: middle;\n",
       "    }\n",
       "\n",
       "    .dataframe tbody tr th {\n",
       "        vertical-align: top;\n",
       "    }\n",
       "\n",
       "    .dataframe thead th {\n",
       "        text-align: right;\n",
       "    }\n",
       "</style>\n",
       "<table border=\"1\" class=\"dataframe\">\n",
       "  <thead>\n",
       "    <tr style=\"text-align: right;\">\n",
       "      <th></th>\n",
       "      <th>year</th>\n",
       "      <th>suicides_no</th>\n",
       "      <th>population</th>\n",
       "      <th>suicides/100k pop</th>\n",
       "      <th>HDI for year</th>\n",
       "      <th>gdp_per_capita ($)</th>\n",
       "    </tr>\n",
       "  </thead>\n",
       "  <tbody>\n",
       "    <tr>\n",
       "      <th>0</th>\n",
       "      <td>2009.0</td>\n",
       "      <td>0.0</td>\n",
       "      <td>24000.0</td>\n",
       "      <td>0.0</td>\n",
       "      <td>0.713</td>\n",
       "      <td>1299</td>\n",
       "    </tr>\n",
       "    <tr>\n",
       "      <th>1</th>\n",
       "      <td>NaN</td>\n",
       "      <td>NaN</td>\n",
       "      <td>NaN</td>\n",
       "      <td>NaN</td>\n",
       "      <td>0.772</td>\n",
       "      <td>2303</td>\n",
       "    </tr>\n",
       "    <tr>\n",
       "      <th>2</th>\n",
       "      <td>NaN</td>\n",
       "      <td>NaN</td>\n",
       "      <td>NaN</td>\n",
       "      <td>NaN</td>\n",
       "      <td>0.888</td>\n",
       "      <td>4104</td>\n",
       "    </tr>\n",
       "  </tbody>\n",
       "</table>\n",
       "</div>"
      ],
      "text/plain": [
       "     year  suicides_no  population  suicides/100k pop  HDI for year  \\\n",
       "0  2009.0          0.0     24000.0                0.0         0.713   \n",
       "1     NaN          NaN         NaN                NaN         0.772   \n",
       "2     NaN          NaN         NaN                NaN         0.888   \n",
       "\n",
       "   gdp_per_capita ($)  \n",
       "0                1299  \n",
       "1                2303  \n",
       "2                4104  "
      ]
     },
     "execution_count": 18,
     "metadata": {},
     "output_type": "execute_result"
    }
   ],
   "source": [
    "df.mode(axis=0,numeric_only=True)"
   ]
  },
  {
   "cell_type": "code",
   "execution_count": 19,
   "metadata": {},
   "outputs": [
    {
     "data": {
      "text/plain": [
       "year                  2.001258e+03\n",
       "suicides_no           2.425744e+02\n",
       "population            1.844794e+06\n",
       "suicides/100k pop     1.281610e+01\n",
       "HDI for year          7.766011e-01\n",
       "gdp_per_capita ($)    1.686646e+04\n",
       "dtype: float64"
      ]
     },
     "execution_count": 19,
     "metadata": {},
     "output_type": "execute_result"
    }
   ],
   "source": [
    "df.mean()"
   ]
  },
  {
   "cell_type": "code",
   "execution_count": 20,
   "metadata": {},
   "outputs": [
    {
     "data": {
      "text/plain": [
       "year                  7.172489e+01\n",
       "suicides_no           8.136904e+05\n",
       "population            1.530202e+13\n",
       "suicides/100k pop     3.595389e+02\n",
       "HDI for year          8.717342e-03\n",
       "gdp_per_capita ($)    3.567405e+08\n",
       "dtype: float64"
      ]
     },
     "execution_count": 20,
     "metadata": {},
     "output_type": "execute_result"
    }
   ],
   "source": [
    "df.std()**2#std*std=var"
   ]
  },
  {
   "cell_type": "code",
   "execution_count": 21,
   "metadata": {},
   "outputs": [
    {
     "name": "stdout",
     "output_type": "stream",
     "text": [
      "year                            2016\n",
      "sex                             male\n",
      "age                        75+ years\n",
      "suicides_no                    22338\n",
      "population                  43805214\n",
      "suicides/100k pop             224.97\n",
      "country-year          Uzbekistan2014\n",
      "HDI for year                   0.944\n",
      " gdp_for_year ($)        997,007,926\n",
      "gdp_per_capita ($)            126352\n",
      "generation                    Silent\n",
      "dtype: object\n"
     ]
    }
   ],
   "source": [
    "print(df.max())"
   ]
  },
  {
   "cell_type": "code",
   "execution_count": 22,
   "metadata": {},
   "outputs": [
    {
     "data": {
      "text/plain": [
       "year                               1985\n",
       "sex                              female\n",
       "age                         15-24 years\n",
       "suicides_no                           0\n",
       "population                          278\n",
       "suicides/100k pop                     0\n",
       "country-year                Albania1987\n",
       "HDI for year                      0.483\n",
       " gdp_for_year ($)     1,002,219,052,968\n",
       "gdp_per_capita ($)                  251\n",
       "generation                      Boomers\n",
       "dtype: object"
      ]
     },
     "execution_count": 22,
     "metadata": {},
     "output_type": "execute_result"
    }
   ],
   "source": [
    "df.min()\n"
   ]
  },
  {
   "cell_type": "code",
   "execution_count": 23,
   "metadata": {},
   "outputs": [
    {
     "data": {
      "text/plain": [
       "year                  -0.160241\n",
       "suicides_no           10.352910\n",
       "population             4.459414\n",
       "suicides/100k pop      2.963414\n",
       "HDI for year          -0.300877\n",
       "gdp_per_capita ($)     1.963470\n",
       "dtype: float64"
      ]
     },
     "execution_count": 23,
     "metadata": {},
     "output_type": "execute_result"
    }
   ],
   "source": [
    "df.skew()"
   ]
  },
  {
   "cell_type": "code",
   "execution_count": 24,
   "metadata": {},
   "outputs": [
    {
     "data": {
      "text/plain": [
       "year                    2002.000\n",
       "suicides_no               25.000\n",
       "population            430150.000\n",
       "suicides/100k pop          5.990\n",
       "HDI for year               0.779\n",
       "gdp_per_capita ($)      9372.000\n",
       "dtype: float64"
      ]
     },
     "execution_count": 24,
     "metadata": {},
     "output_type": "execute_result"
    }
   ],
   "source": [
    "df.median()\n",
    "\n"
   ]
  },
  {
   "cell_type": "code",
   "execution_count": 52,
   "metadata": {},
   "outputs": [
    {
     "name": "stdout",
     "output_type": "stream",
     "text": [
      "25 percentile for variable year:1995.0\n",
      "75 percentile for variable year:2008.0\n",
      "25 percentile for variable suicides_no:3.0\n",
      "75 percentile for variable suicides_no:131.0\n",
      "25 percentile for variable population:97498.5\n",
      "75 percentile for variable population:1486143.25\n",
      "25 percentile for variable suicides/100k pop:0.92\n",
      "75 percentile for variable suicides/100k pop:16.62\n",
      "25 percentile for variable HDI for year:nan\n",
      "75 percentile for variable HDI for year:nan\n",
      "25 percentile for variable gdp_per_capita ($):3447.0\n",
      "75 percentile for variable gdp_per_capita ($):24874.0\n"
     ]
    }
   ],
   "source": [
    "col=['year','suicides_no','population','suicides/100k pop','HDI for year','gdp_per_capita ($)']\n",
    "i=0\n",
    "while i<len(col):\n",
    "    print(\"25 percentile for variable \"+col[i] +\":\" +str(np.percentile(df[col[i]],25)))\n",
    "    print(\"75 percentile for variable \" +col[i] +\":\" +str(np.percentile(df[col[i]],75)))\n",
    "    i=i+1"
   ]
  },
  {
   "cell_type": "code",
   "execution_count": 69,
   "metadata": {},
   "outputs": [
    {
     "data": {
      "image/png": "[encoded data removed]",
      "text/plain": [
       "<Figure size 432x288 with 1 Axes>"
      ]
     },
     "metadata": {
      "needs_background": "light"
     },
     "output_type": "display_data"
    },
    {
     "data": {
      "image/png": "[encoded data removed]",
      "text/plain": [
       "<Figure size 432x288 with 1 Axes>"
      ]
     },
     "metadata": {
      "needs_background": "light"
     },
     "output_type": "display_data"
    },
    {
     "data": {
      "image/png": "[encoded data removed]",
      "text/plain": [
       "<Figure size 432x288 with 1 Axes>"
      ]
     },
     "metadata": {
      "needs_background": "light"
     },
     "output_type": "display_data"
    },
    {
     "data": {
      "image/png": "[encoded data removed]",
      "text/plain": [
       "<Figure size 432x288 with 1 Axes>"
      ]
     },
     "metadata": {
      "needs_background": "light"
     },
     "output_type": "display_data"
    },
    {
     "data": {
      "image/png": "[encoded data removed]",
      "text/plain": [
       "<Figure size 432x288 with 1 Axes>"
      ]
     },
     "metadata": {
      "needs_background": "light"
     },
     "output_type": "display_data"
    },
    {
     "data": {
      "image/png": "[encoded data removed]",
      "text/plain": [
       "<Figure size 432x288 with 1 Axes>"
      ]
     },
     "metadata": {
      "needs_background": "light"
     },
     "output_type": "display_data"
    }
   ],
   "source": [
    "col=['year','suicides_no','population','suicides/100k pop','HDI for year','gdp_per_capita ($)']\n",
    "j=0\n",
    "while j<len(col):\n",
    "    \n",
    "    sns.boxplot(data=df,y=df[col[j]])\n",
    "    plt.show()\n",
    "    j=j+1"
   ]
  },
  {
   "cell_type": "code",
   "execution_count": 27,
   "metadata": {},
   "outputs": [
    {
     "data": {
      "text/plain": [
       "<AxesSubplot:xlabel='year', ylabel='count'>"
      ]
     },
     "execution_count": 27,
     "metadata": {},
     "output_type": "execute_result"
    },
    {
     "data": {
      "image/png": "[encoded data removed]",
      "text/plain": [
       "<Figure size 432x288 with 1 Axes>"
      ]
     },
     "metadata": {
      "needs_background": "light"
     },
     "output_type": "display_data"
    }
   ],
   "source": [
    "sns.countplot(x='year',data=df)"
   ]
  },
  {
   "cell_type": "code",
   "execution_count": 28,
   "metadata": {},
   "outputs": [
    {
     "data": {
      "text/plain": [
       "<AxesSubplot:xlabel='sex', ylabel='count'>"
      ]
     },
     "execution_count": 28,
     "metadata": {},
     "output_type": "execute_result"
    },
    {
     "data": {
      "image/png": "[encoded data removed]",
      "text/plain": [
       "<Figure size 432x288 with 1 Axes>"
      ]
     },
     "metadata": {
      "needs_background": "light"
     },
     "output_type": "display_data"
    }
   ],
   "source": [
    "sns.countplot(x='sex',data=df)"
   ]
  },
  {
   "cell_type": "code",
   "execution_count": 29,
   "metadata": {},
   "outputs": [
    {
     "data": {
      "text/plain": [
       "<AxesSubplot:xlabel='age', ylabel='count'>"
      ]
     },
     "execution_count": 29,
     "metadata": {},
     "output_type": "execute_result"
    },
    {
     "data": {
      "image/png": "[encoded data removed]",
      "text/plain": [
       "<Figure size 432x288 with 1 Axes>"
      ]
     },
     "metadata": {
      "needs_background": "light"
     },
     "output_type": "display_data"
    }
   ],
   "source": [
    "sns.countplot(x='age',data=df)"
   ]
  },
  {
   "cell_type": "code",
   "execution_count": 30,
   "metadata": {},
   "outputs": [
    {
     "data": {
      "text/plain": [
       "<AxesSubplot:xlabel='count'>"
      ]
     },
     "execution_count": 30,
     "metadata": {},
     "output_type": "execute_result"
    },
    {
     "data": {
      "image/png": "[encoded data removed]",
      "text/plain": [
       "<Figure size 432x288 with 1 Axes>"
      ]
     },
     "metadata": {
      "needs_background": "light"
     },
     "output_type": "display_data"
    }
   ],
   "source": [
    "sns.countplot(data=df,orient='h')"
   ]
  },
  {
   "cell_type": "code",
   "execution_count": 44,
   "metadata": {},
   "outputs": [
    {
     "data": {
      "text/plain": [
       "<AxesSubplot:>"
      ]
     },
     "execution_count": 44,
     "metadata": {},
     "output_type": "execute_result"
    },
    {
     "data": {
      "image/png": "[encoded data removed]",
      "text/plain": [
       "<Figure size 432x288 with 2 Axes>"
      ]
     },
     "metadata": {
      "needs_background": "light"
     },
     "output_type": "display_data"
    }
   ],
   "source": [
    "sns.heatmap(df.corr(),annot=True)"
   ]
  },
  {
   "cell_type": "code",
   "execution_count": 31,
   "metadata": {},
   "outputs": [
    {
     "data": {
      "text/plain": [
       "242.57440690150972"
      ]
     },
     "execution_count": 31,
     "metadata": {},
     "output_type": "execute_result"
    }
   ],
   "source": [
    "df['suicides_no'].mean()"
   ]
  },
  {
   "cell_type": "code",
   "execution_count": 32,
   "metadata": {},
   "outputs": [],
   "source": [
    "grp=df.groupby('country')"
   ]
  },
  {
   "cell_type": "code",
   "execution_count": 33,
   "metadata": {},
   "outputs": [
    {
     "data": {
      "text/html": [
       "<div>\n",
       "<style scoped>\n",
       "    .dataframe tbody tr th:only-of-type {\n",
       "        vertical-align: middle;\n",
       "    }\n",
       "\n",
       "    .dataframe tbody tr th {\n",
       "        vertical-align: top;\n",
       "    }\n",
       "\n",
       "    .dataframe thead th {\n",
       "        text-align: right;\n",
       "    }\n",
       "</style>\n",
       "<table border=\"1\" class=\"dataframe\">\n",
       "  <thead>\n",
       "    <tr style=\"text-align: right;\">\n",
       "      <th></th>\n",
       "      <th>year</th>\n",
       "      <th>suicides_no</th>\n",
       "      <th>population</th>\n",
       "      <th>suicides/100k pop</th>\n",
       "      <th>HDI for year</th>\n",
       "      <th>gdp_per_capita ($)</th>\n",
       "    </tr>\n",
       "    <tr>\n",
       "      <th>country</th>\n",
       "      <th></th>\n",
       "      <th></th>\n",
       "      <th></th>\n",
       "      <th></th>\n",
       "      <th></th>\n",
       "      <th></th>\n",
       "    </tr>\n",
       "  </thead>\n",
       "  <tbody>\n",
       "    <tr>\n",
       "      <th>Albania</th>\n",
       "      <td>1999.227273</td>\n",
       "      <td>7.462121</td>\n",
       "      <td>2.360813e+05</td>\n",
       "      <td>3.502879</td>\n",
       "      <td>0.673000</td>\n",
       "      <td>1859.045455</td>\n",
       "    </tr>\n",
       "    <tr>\n",
       "      <th>Antigua and Barbuda</th>\n",
       "      <td>1999.481481</td>\n",
       "      <td>0.033951</td>\n",
       "      <td>6.142679e+03</td>\n",
       "      <td>0.552901</td>\n",
       "      <td>0.781667</td>\n",
       "      <td>10448.185185</td>\n",
       "    </tr>\n",
       "    <tr>\n",
       "      <th>Argentina</th>\n",
       "      <td>2000.000000</td>\n",
       "      <td>221.018817</td>\n",
       "      <td>2.784907e+06</td>\n",
       "      <td>10.469328</td>\n",
       "      <td>0.779600</td>\n",
       "      <td>7914.096774</td>\n",
       "    </tr>\n",
       "    <tr>\n",
       "      <th>Armenia</th>\n",
       "      <td>2002.791946</td>\n",
       "      <td>6.392617</td>\n",
       "      <td>2.595576e+05</td>\n",
       "      <td>3.275872</td>\n",
       "      <td>0.690125</td>\n",
       "      <td>1873.919463</td>\n",
       "    </tr>\n",
       "    <tr>\n",
       "      <th>Aruba</th>\n",
       "      <td>2004.285714</td>\n",
       "      <td>0.601190</td>\n",
       "      <td>7.498077e+03</td>\n",
       "      <td>9.503095</td>\n",
       "      <td>NaN</td>\n",
       "      <td>24221.642857</td>\n",
       "    </tr>\n",
       "    <tr>\n",
       "      <th>...</th>\n",
       "      <td>...</td>\n",
       "      <td>...</td>\n",
       "      <td>...</td>\n",
       "      <td>...</td>\n",
       "      <td>...</td>\n",
       "      <td>...</td>\n",
       "    </tr>\n",
       "    <tr>\n",
       "      <th>United Arab Emirates</th>\n",
       "      <td>2007.500000</td>\n",
       "      <td>8.638889</td>\n",
       "      <td>5.069760e+05</td>\n",
       "      <td>1.317917</td>\n",
       "      <td>0.825000</td>\n",
       "      <td>42162.000000</td>\n",
       "    </tr>\n",
       "    <tr>\n",
       "      <th>United Kingdom</th>\n",
       "      <td>2000.000000</td>\n",
       "      <td>367.755376</td>\n",
       "      <td>4.674107e+06</td>\n",
       "      <td>7.502473</td>\n",
       "      <td>0.863500</td>\n",
       "      <td>31908.354839</td>\n",
       "    </tr>\n",
       "    <tr>\n",
       "      <th>United States</th>\n",
       "      <td>2000.000000</td>\n",
       "      <td>2779.604839</td>\n",
       "      <td>2.165061e+07</td>\n",
       "      <td>13.819812</td>\n",
       "      <td>0.891600</td>\n",
       "      <td>39269.612903</td>\n",
       "    </tr>\n",
       "    <tr>\n",
       "      <th>Uruguay</th>\n",
       "      <td>2000.214286</td>\n",
       "      <td>39.101190</td>\n",
       "      <td>2.502052e+05</td>\n",
       "      <td>19.461190</td>\n",
       "      <td>0.746556</td>\n",
       "      <td>7622.071429</td>\n",
       "    </tr>\n",
       "    <tr>\n",
       "      <th>Uzbekistan</th>\n",
       "      <td>2001.318182</td>\n",
       "      <td>131.829545</td>\n",
       "      <td>1.842510e+06</td>\n",
       "      <td>8.099129</td>\n",
       "      <td>0.650000</td>\n",
       "      <td>976.181818</td>\n",
       "    </tr>\n",
       "  </tbody>\n",
       "</table>\n",
       "<p>101 rows × 6 columns</p>\n",
       "</div>"
      ],
      "text/plain": [
       "                             year  suicides_no    population  \\\n",
       "country                                                        \n",
       "Albania               1999.227273     7.462121  2.360813e+05   \n",
       "Antigua and Barbuda   1999.481481     0.033951  6.142679e+03   \n",
       "Argentina             2000.000000   221.018817  2.784907e+06   \n",
       "Armenia               2002.791946     6.392617  2.595576e+05   \n",
       "Aruba                 2004.285714     0.601190  7.498077e+03   \n",
       "...                           ...          ...           ...   \n",
       "United Arab Emirates  2007.500000     8.638889  5.069760e+05   \n",
       "United Kingdom        2000.000000   367.755376  4.674107e+06   \n",
       "United States         2000.000000  2779.604839  2.165061e+07   \n",
       "Uruguay               2000.214286    39.101190  2.502052e+05   \n",
       "Uzbekistan            2001.318182   131.829545  1.842510e+06   \n",
       "\n",
       "                      suicides/100k pop  HDI for year  gdp_per_capita ($)  \n",
       "country                                                                    \n",
       "Albania                        3.502879      0.673000         1859.045455  \n",
       "Antigua and Barbuda            0.552901      0.781667        10448.185185  \n",
       "Argentina                     10.469328      0.779600         7914.096774  \n",
       "Armenia                        3.275872      0.690125         1873.919463  \n",
       "Aruba                          9.503095           NaN        24221.642857  \n",
       "...                                 ...           ...                 ...  \n",
       "United Arab Emirates           1.317917      0.825000        42162.000000  \n",
       "United Kingdom                 7.502473      0.863500        31908.354839  \n",
       "United States                 13.819812      0.891600        39269.612903  \n",
       "Uruguay                       19.461190      0.746556         7622.071429  \n",
       "Uzbekistan                     8.099129      0.650000          976.181818  \n",
       "\n",
       "[101 rows x 6 columns]"
      ]
     },
     "execution_count": 33,
     "metadata": {},
     "output_type": "execute_result"
    }
   ],
   "source": [
    "grp.mean()"
   ]
  },
  {
   "cell_type": "code",
   "execution_count": 34,
   "metadata": {},
   "outputs": [
    {
     "data": {
      "text/html": [
       "<div>\n",
       "<style scoped>\n",
       "    .dataframe tbody tr th:only-of-type {\n",
       "        vertical-align: middle;\n",
       "    }\n",
       "\n",
       "    .dataframe tbody tr th {\n",
       "        vertical-align: top;\n",
       "    }\n",
       "\n",
       "    .dataframe thead th {\n",
       "        text-align: right;\n",
       "    }\n",
       "</style>\n",
       "<table border=\"1\" class=\"dataframe\">\n",
       "  <thead>\n",
       "    <tr style=\"text-align: right;\">\n",
       "      <th></th>\n",
       "      <th>year</th>\n",
       "      <th>suicides_no</th>\n",
       "      <th>population</th>\n",
       "      <th>suicides/100k pop</th>\n",
       "      <th>HDI for year</th>\n",
       "      <th>gdp_per_capita ($)</th>\n",
       "    </tr>\n",
       "    <tr>\n",
       "      <th>country</th>\n",
       "      <th></th>\n",
       "      <th></th>\n",
       "      <th></th>\n",
       "      <th></th>\n",
       "      <th></th>\n",
       "      <th></th>\n",
       "    </tr>\n",
       "  </thead>\n",
       "  <tbody>\n",
       "    <tr>\n",
       "      <th>Albania</th>\n",
       "      <td>46.077428</td>\n",
       "      <td>7.079704e+01</td>\n",
       "      <td>1.199572e+10</td>\n",
       "      <td>11.778946</td>\n",
       "      <td>1.554894e-03</td>\n",
       "      <td>1.924406e+06</td>\n",
       "    </tr>\n",
       "    <tr>\n",
       "      <th>Antigua and Barbuda</th>\n",
       "      <td>82.727210</td>\n",
       "      <td>3.909147e-02</td>\n",
       "      <td>1.029195e+07</td>\n",
       "      <td>11.467952</td>\n",
       "      <td>9.142857e-07</td>\n",
       "      <td>1.112234e+07</td>\n",
       "    </tr>\n",
       "    <tr>\n",
       "      <th>Argentina</th>\n",
       "      <td>80.215633</td>\n",
       "      <td>3.842282e+04</td>\n",
       "      <td>1.248620e+12</td>\n",
       "      <td>139.416510</td>\n",
       "      <td>2.694494e-03</td>\n",
       "      <td>1.229712e+07</td>\n",
       "    </tr>\n",
       "    <tr>\n",
       "      <th>Armenia</th>\n",
       "      <td>64.798319</td>\n",
       "      <td>4.543119e+01</td>\n",
       "      <td>1.417152e+10</td>\n",
       "      <td>14.487311</td>\n",
       "      <td>2.447605e-03</td>\n",
       "      <td>2.375085e+06</td>\n",
       "    </tr>\n",
       "    <tr>\n",
       "      <th>Aruba</th>\n",
       "      <td>19.750214</td>\n",
       "      <td>1.139400e+00</td>\n",
       "      <td>1.977757e+07</td>\n",
       "      <td>625.830928</td>\n",
       "      <td>NaN</td>\n",
       "      <td>8.809463e+06</td>\n",
       "    </tr>\n",
       "    <tr>\n",
       "      <th>...</th>\n",
       "      <td>...</td>\n",
       "      <td>...</td>\n",
       "      <td>...</td>\n",
       "      <td>...</td>\n",
       "      <td>...</td>\n",
       "      <td>...</td>\n",
       "    </tr>\n",
       "    <tr>\n",
       "      <th>United Arab Emirates</th>\n",
       "      <td>2.957746</td>\n",
       "      <td>1.740368e+02</td>\n",
       "      <td>3.584148e+11</td>\n",
       "      <td>2.339701</td>\n",
       "      <td>9.391304e-06</td>\n",
       "      <td>2.314817e+07</td>\n",
       "    </tr>\n",
       "    <tr>\n",
       "      <th>United Kingdom</th>\n",
       "      <td>80.215633</td>\n",
       "      <td>1.441706e+05</td>\n",
       "      <td>3.619733e+12</td>\n",
       "      <td>37.380061</td>\n",
       "      <td>3.005092e-03</td>\n",
       "      <td>1.622061e+08</td>\n",
       "    </tr>\n",
       "    <tr>\n",
       "      <th>United States</th>\n",
       "      <td>80.215633</td>\n",
       "      <td>7.577448e+06</td>\n",
       "      <td>8.927660e+13</td>\n",
       "      <td>175.029586</td>\n",
       "      <td>6.121412e-04</td>\n",
       "      <td>1.521305e+08</td>\n",
       "    </tr>\n",
       "    <tr>\n",
       "      <th>Uruguay</th>\n",
       "      <td>79.261407</td>\n",
       "      <td>1.352796e+03</td>\n",
       "      <td>8.066151e+09</td>\n",
       "      <td>516.873141</td>\n",
       "      <td>1.969371e-03</td>\n",
       "      <td>2.214184e+07</td>\n",
       "    </tr>\n",
       "    <tr>\n",
       "      <th>Uzbekistan</th>\n",
       "      <td>55.335638</td>\n",
       "      <td>1.703973e+04</td>\n",
       "      <td>1.072894e+12</td>\n",
       "      <td>38.764276</td>\n",
       "      <td>7.720482e-04</td>\n",
       "      <td>3.236033e+05</td>\n",
       "    </tr>\n",
       "  </tbody>\n",
       "</table>\n",
       "<p>101 rows × 6 columns</p>\n",
       "</div>"
      ],
      "text/plain": [
       "                           year   suicides_no    population  \\\n",
       "country                                                       \n",
       "Albania               46.077428  7.079704e+01  1.199572e+10   \n",
       "Antigua and Barbuda   82.727210  3.909147e-02  1.029195e+07   \n",
       "Argentina             80.215633  3.842282e+04  1.248620e+12   \n",
       "Armenia               64.798319  4.543119e+01  1.417152e+10   \n",
       "Aruba                 19.750214  1.139400e+00  1.977757e+07   \n",
       "...                         ...           ...           ...   \n",
       "United Arab Emirates   2.957746  1.740368e+02  3.584148e+11   \n",
       "United Kingdom        80.215633  1.441706e+05  3.619733e+12   \n",
       "United States         80.215633  7.577448e+06  8.927660e+13   \n",
       "Uruguay               79.261407  1.352796e+03  8.066151e+09   \n",
       "Uzbekistan            55.335638  1.703973e+04  1.072894e+12   \n",
       "\n",
       "                      suicides/100k pop  HDI for year  gdp_per_capita ($)  \n",
       "country                                                                    \n",
       "Albania                       11.778946  1.554894e-03        1.924406e+06  \n",
       "Antigua and Barbuda           11.467952  9.142857e-07        1.112234e+07  \n",
       "Argentina                    139.416510  2.694494e-03        1.229712e+07  \n",
       "Armenia                       14.487311  2.447605e-03        2.375085e+06  \n",
       "Aruba                        625.830928           NaN        8.809463e+06  \n",
       "...                                 ...           ...                 ...  \n",
       "United Arab Emirates           2.339701  9.391304e-06        2.314817e+07  \n",
       "United Kingdom                37.380061  3.005092e-03        1.622061e+08  \n",
       "United States                175.029586  6.121412e-04        1.521305e+08  \n",
       "Uruguay                      516.873141  1.969371e-03        2.214184e+07  \n",
       "Uzbekistan                    38.764276  7.720482e-04        3.236033e+05  \n",
       "\n",
       "[101 rows x 6 columns]"
      ]
     },
     "execution_count": 34,
     "metadata": {},
     "output_type": "execute_result"
    }
   ],
   "source": [
    "grp.std()**2 #variance=std**2"
   ]
  },
  {
   "cell_type": "code",
   "execution_count": 35,
   "metadata": {},
   "outputs": [
    {
     "data": {
      "text/html": [
       "<div>\n",
       "<style scoped>\n",
       "    .dataframe tbody tr th:only-of-type {\n",
       "        vertical-align: middle;\n",
       "    }\n",
       "\n",
       "    .dataframe tbody tr th {\n",
       "        vertical-align: top;\n",
       "    }\n",
       "\n",
       "    .dataframe thead th {\n",
       "        text-align: right;\n",
       "    }\n",
       "</style>\n",
       "<table border=\"1\" class=\"dataframe\">\n",
       "  <thead>\n",
       "    <tr style=\"text-align: right;\">\n",
       "      <th></th>\n",
       "      <th>year</th>\n",
       "      <th>suicides_no</th>\n",
       "      <th>population</th>\n",
       "      <th>suicides/100k pop</th>\n",
       "      <th>HDI for year</th>\n",
       "      <th>gdp_per_capita ($)</th>\n",
       "    </tr>\n",
       "    <tr>\n",
       "      <th>country</th>\n",
       "      <th></th>\n",
       "      <th></th>\n",
       "      <th></th>\n",
       "      <th></th>\n",
       "      <th></th>\n",
       "      <th></th>\n",
       "    </tr>\n",
       "  </thead>\n",
       "  <tbody>\n",
       "    <tr>\n",
       "      <th>Albania</th>\n",
       "      <td>-0.172834</td>\n",
       "      <td>1.496821</td>\n",
       "      <td>-0.567509</td>\n",
       "      <td>1.185837</td>\n",
       "      <td>-0.148086</td>\n",
       "      <td>0.858442</td>\n",
       "    </tr>\n",
       "    <tr>\n",
       "      <th>Antigua and Barbuda</th>\n",
       "      <td>0.060988</td>\n",
       "      <td>6.328472</td>\n",
       "      <td>0.256399</td>\n",
       "      <td>6.778070</td>\n",
       "      <td>0.738229</td>\n",
       "      <td>-0.078678</td>\n",
       "    </tr>\n",
       "    <tr>\n",
       "      <th>Argentina</th>\n",
       "      <td>0.000000</td>\n",
       "      <td>0.925410</td>\n",
       "      <td>-0.588743</td>\n",
       "      <td>1.997794</td>\n",
       "      <td>-0.445535</td>\n",
       "      <td>0.449156</td>\n",
       "    </tr>\n",
       "    <tr>\n",
       "      <th>Armenia</th>\n",
       "      <td>0.048823</td>\n",
       "      <td>1.381548</td>\n",
       "      <td>-0.243809</td>\n",
       "      <td>2.040827</td>\n",
       "      <td>-0.662177</td>\n",
       "      <td>0.344900</td>\n",
       "    </tr>\n",
       "    <tr>\n",
       "      <th>Aruba</th>\n",
       "      <td>-0.336316</td>\n",
       "      <td>1.810301</td>\n",
       "      <td>0.897832</td>\n",
       "      <td>5.335456</td>\n",
       "      <td>NaN</td>\n",
       "      <td>-0.238821</td>\n",
       "    </tr>\n",
       "    <tr>\n",
       "      <th>...</th>\n",
       "      <td>...</td>\n",
       "      <td>...</td>\n",
       "      <td>...</td>\n",
       "      <td>...</td>\n",
       "      <td>...</td>\n",
       "      <td>...</td>\n",
       "    </tr>\n",
       "    <tr>\n",
       "      <th>United Arab Emirates</th>\n",
       "      <td>0.000000</td>\n",
       "      <td>1.698807</td>\n",
       "      <td>1.753375</td>\n",
       "      <td>2.438183</td>\n",
       "      <td>0.000000</td>\n",
       "      <td>-0.325412</td>\n",
       "    </tr>\n",
       "    <tr>\n",
       "      <th>United Kingdom</th>\n",
       "      <td>0.000000</td>\n",
       "      <td>1.527708</td>\n",
       "      <td>0.609747</td>\n",
       "      <td>0.522991</td>\n",
       "      <td>-1.101117</td>\n",
       "      <td>0.007237</td>\n",
       "    </tr>\n",
       "    <tr>\n",
       "      <th>United States</th>\n",
       "      <td>0.000000</td>\n",
       "      <td>1.357821</td>\n",
       "      <td>0.658203</td>\n",
       "      <td>1.158757</td>\n",
       "      <td>-0.845047</td>\n",
       "      <td>0.042782</td>\n",
       "    </tr>\n",
       "    <tr>\n",
       "      <th>Uruguay</th>\n",
       "      <td>-0.077250</td>\n",
       "      <td>1.054454</td>\n",
       "      <td>-0.377363</td>\n",
       "      <td>1.845939</td>\n",
       "      <td>-0.548228</td>\n",
       "      <td>1.017407</td>\n",
       "    </tr>\n",
       "    <tr>\n",
       "      <th>Uzbekistan</th>\n",
       "      <td>0.232614</td>\n",
       "      <td>1.128970</td>\n",
       "      <td>-0.298067</td>\n",
       "      <td>0.751279</td>\n",
       "      <td>-1.088626</td>\n",
       "      <td>1.221251</td>\n",
       "    </tr>\n",
       "  </tbody>\n",
       "</table>\n",
       "<p>101 rows × 6 columns</p>\n",
       "</div>"
      ],
      "text/plain": [
       "                          year  suicides_no  population  suicides/100k pop  \\\n",
       "country                                                                      \n",
       "Albania              -0.172834     1.496821   -0.567509           1.185837   \n",
       "Antigua and Barbuda   0.060988     6.328472    0.256399           6.778070   \n",
       "Argentina             0.000000     0.925410   -0.588743           1.997794   \n",
       "Armenia               0.048823     1.381548   -0.243809           2.040827   \n",
       "Aruba                -0.336316     1.810301    0.897832           5.335456   \n",
       "...                        ...          ...         ...                ...   \n",
       "United Arab Emirates  0.000000     1.698807    1.753375           2.438183   \n",
       "United Kingdom        0.000000     1.527708    0.609747           0.522991   \n",
       "United States         0.000000     1.357821    0.658203           1.158757   \n",
       "Uruguay              -0.077250     1.054454   -0.377363           1.845939   \n",
       "Uzbekistan            0.232614     1.128970   -0.298067           0.751279   \n",
       "\n",
       "                      HDI for year  gdp_per_capita ($)  \n",
       "country                                                 \n",
       "Albania                  -0.148086            0.858442  \n",
       "Antigua and Barbuda       0.738229           -0.078678  \n",
       "Argentina                -0.445535            0.449156  \n",
       "Armenia                  -0.662177            0.344900  \n",
       "Aruba                          NaN           -0.238821  \n",
       "...                            ...                 ...  \n",
       "United Arab Emirates      0.000000           -0.325412  \n",
       "United Kingdom           -1.101117            0.007237  \n",
       "United States            -0.845047            0.042782  \n",
       "Uruguay                  -0.548228            1.017407  \n",
       "Uzbekistan               -1.088626            1.221251  \n",
       "\n",
       "[101 rows x 6 columns]"
      ]
     },
     "execution_count": 35,
     "metadata": {},
     "output_type": "execute_result"
    }
   ],
   "source": [
    "grp.skew()"
   ]
  },
  {
   "cell_type": "code",
   "execution_count": 36,
   "metadata": {},
   "outputs": [
    {
     "data": {
      "text/html": [
       "<div>\n",
       "<style scoped>\n",
       "    .dataframe tbody tr th:only-of-type {\n",
       "        vertical-align: middle;\n",
       "    }\n",
       "\n",
       "    .dataframe tbody tr th {\n",
       "        vertical-align: top;\n",
       "    }\n",
       "\n",
       "    .dataframe thead th {\n",
       "        text-align: right;\n",
       "    }\n",
       "</style>\n",
       "<table border=\"1\" class=\"dataframe\">\n",
       "  <thead>\n",
       "    <tr style=\"text-align: right;\">\n",
       "      <th></th>\n",
       "      <th>year</th>\n",
       "      <th>sex</th>\n",
       "      <th>age</th>\n",
       "      <th>suicides_no</th>\n",
       "      <th>population</th>\n",
       "      <th>suicides/100k pop</th>\n",
       "      <th>country-year</th>\n",
       "      <th>HDI for year</th>\n",
       "      <th>gdp_for_year ($)</th>\n",
       "      <th>gdp_per_capita ($)</th>\n",
       "      <th>generation</th>\n",
       "    </tr>\n",
       "    <tr>\n",
       "      <th>country</th>\n",
       "      <th></th>\n",
       "      <th></th>\n",
       "      <th></th>\n",
       "      <th></th>\n",
       "      <th></th>\n",
       "      <th></th>\n",
       "      <th></th>\n",
       "      <th></th>\n",
       "      <th></th>\n",
       "      <th></th>\n",
       "      <th></th>\n",
       "    </tr>\n",
       "  </thead>\n",
       "  <tbody>\n",
       "    <tr>\n",
       "      <th>Albania</th>\n",
       "      <td>1987</td>\n",
       "      <td>female</td>\n",
       "      <td>15-24 years</td>\n",
       "      <td>0</td>\n",
       "      <td>21800</td>\n",
       "      <td>0.00</td>\n",
       "      <td>Albania1987</td>\n",
       "      <td>0.619</td>\n",
       "      <td>1,228,071,038</td>\n",
       "      <td>251</td>\n",
       "      <td>Boomers</td>\n",
       "    </tr>\n",
       "    <tr>\n",
       "      <th>Antigua and Barbuda</th>\n",
       "      <td>1985</td>\n",
       "      <td>female</td>\n",
       "      <td>15-24 years</td>\n",
       "      <td>0</td>\n",
       "      <td>424</td>\n",
       "      <td>0.00</td>\n",
       "      <td>Antigua and Barbuda1985</td>\n",
       "      <td>0.781</td>\n",
       "      <td>1,022,191,296</td>\n",
       "      <td>3850</td>\n",
       "      <td>Boomers</td>\n",
       "    </tr>\n",
       "    <tr>\n",
       "      <th>Argentina</th>\n",
       "      <td>1985</td>\n",
       "      <td>female</td>\n",
       "      <td>15-24 years</td>\n",
       "      <td>7</td>\n",
       "      <td>363000</td>\n",
       "      <td>0.24</td>\n",
       "      <td>Argentina1985</td>\n",
       "      <td>0.694</td>\n",
       "      <td>110,934,442,763</td>\n",
       "      <td>2670</td>\n",
       "      <td>Boomers</td>\n",
       "    </tr>\n",
       "    <tr>\n",
       "      <th>Armenia</th>\n",
       "      <td>1990</td>\n",
       "      <td>female</td>\n",
       "      <td>15-24 years</td>\n",
       "      <td>0</td>\n",
       "      <td>26900</td>\n",
       "      <td>0.00</td>\n",
       "      <td>Armenia1990</td>\n",
       "      <td>0.605</td>\n",
       "      <td>1,201,313,201</td>\n",
       "      <td>357</td>\n",
       "      <td>Boomers</td>\n",
       "    </tr>\n",
       "    <tr>\n",
       "      <th>Aruba</th>\n",
       "      <td>1995</td>\n",
       "      <td>female</td>\n",
       "      <td>15-24 years</td>\n",
       "      <td>0</td>\n",
       "      <td>889</td>\n",
       "      <td>0.00</td>\n",
       "      <td>Aruba1995</td>\n",
       "      <td>NaN</td>\n",
       "      <td>1,320,670,391</td>\n",
       "      <td>17949</td>\n",
       "      <td>Boomers</td>\n",
       "    </tr>\n",
       "    <tr>\n",
       "      <th>...</th>\n",
       "      <td>...</td>\n",
       "      <td>...</td>\n",
       "      <td>...</td>\n",
       "      <td>...</td>\n",
       "      <td>...</td>\n",
       "      <td>...</td>\n",
       "      <td>...</td>\n",
       "      <td>...</td>\n",
       "      <td>...</td>\n",
       "      <td>...</td>\n",
       "      <td>...</td>\n",
       "    </tr>\n",
       "    <tr>\n",
       "      <th>United Arab Emirates</th>\n",
       "      <td>2005</td>\n",
       "      <td>female</td>\n",
       "      <td>15-24 years</td>\n",
       "      <td>0</td>\n",
       "      <td>5259</td>\n",
       "      <td>0.00</td>\n",
       "      <td>United Arab Emirates2005</td>\n",
       "      <td>0.822</td>\n",
       "      <td>180,617,018,380</td>\n",
       "      <td>34960</td>\n",
       "      <td>Boomers</td>\n",
       "    </tr>\n",
       "    <tr>\n",
       "      <th>United Kingdom</th>\n",
       "      <td>1985</td>\n",
       "      <td>female</td>\n",
       "      <td>15-24 years</td>\n",
       "      <td>0</td>\n",
       "      <td>1202838</td>\n",
       "      <td>0.00</td>\n",
       "      <td>United Kingdom1985</td>\n",
       "      <td>0.753</td>\n",
       "      <td>1,061,388,722,256</td>\n",
       "      <td>9231</td>\n",
       "      <td>Boomers</td>\n",
       "    </tr>\n",
       "    <tr>\n",
       "      <th>United States</th>\n",
       "      <td>1985</td>\n",
       "      <td>female</td>\n",
       "      <td>15-24 years</td>\n",
       "      <td>50</td>\n",
       "      <td>4064000</td>\n",
       "      <td>0.26</td>\n",
       "      <td>United States1985</td>\n",
       "      <td>0.841</td>\n",
       "      <td>10,284,779,000,000</td>\n",
       "      <td>19693</td>\n",
       "      <td>Boomers</td>\n",
       "    </tr>\n",
       "    <tr>\n",
       "      <th>Uruguay</th>\n",
       "      <td>1985</td>\n",
       "      <td>female</td>\n",
       "      <td>15-24 years</td>\n",
       "      <td>0</td>\n",
       "      <td>46900</td>\n",
       "      <td>0.00</td>\n",
       "      <td>Uruguay1985</td>\n",
       "      <td>0.667</td>\n",
       "      <td>12,045,631,093</td>\n",
       "      <td>1729</td>\n",
       "      <td>Boomers</td>\n",
       "    </tr>\n",
       "    <tr>\n",
       "      <th>Uzbekistan</th>\n",
       "      <td>1990</td>\n",
       "      <td>female</td>\n",
       "      <td>15-24 years</td>\n",
       "      <td>3</td>\n",
       "      <td>92400</td>\n",
       "      <td>0.10</td>\n",
       "      <td>Uzbekistan1990</td>\n",
       "      <td>0.594</td>\n",
       "      <td>10,128,112,401</td>\n",
       "      <td>428</td>\n",
       "      <td>Boomers</td>\n",
       "    </tr>\n",
       "  </tbody>\n",
       "</table>\n",
       "<p>101 rows × 11 columns</p>\n",
       "</div>"
      ],
      "text/plain": [
       "                      year     sex          age  suicides_no  population  \\\n",
       "country                                                                    \n",
       "Albania               1987  female  15-24 years            0       21800   \n",
       "Antigua and Barbuda   1985  female  15-24 years            0         424   \n",
       "Argentina             1985  female  15-24 years            7      363000   \n",
       "Armenia               1990  female  15-24 years            0       26900   \n",
       "Aruba                 1995  female  15-24 years            0         889   \n",
       "...                    ...     ...          ...          ...         ...   \n",
       "United Arab Emirates  2005  female  15-24 years            0        5259   \n",
       "United Kingdom        1985  female  15-24 years            0     1202838   \n",
       "United States         1985  female  15-24 years           50     4064000   \n",
       "Uruguay               1985  female  15-24 years            0       46900   \n",
       "Uzbekistan            1990  female  15-24 years            3       92400   \n",
       "\n",
       "                      suicides/100k pop              country-year  \\\n",
       "country                                                             \n",
       "Albania                            0.00               Albania1987   \n",
       "Antigua and Barbuda                0.00   Antigua and Barbuda1985   \n",
       "Argentina                          0.24             Argentina1985   \n",
       "Armenia                            0.00               Armenia1990   \n",
       "Aruba                              0.00                 Aruba1995   \n",
       "...                                 ...                       ...   \n",
       "United Arab Emirates               0.00  United Arab Emirates2005   \n",
       "United Kingdom                     0.00        United Kingdom1985   \n",
       "United States                      0.26         United States1985   \n",
       "Uruguay                            0.00               Uruguay1985   \n",
       "Uzbekistan                         0.10            Uzbekistan1990   \n",
       "\n",
       "                      HDI for year   gdp_for_year ($)   gdp_per_capita ($)  \\\n",
       "country                                                                      \n",
       "Albania                      0.619       1,228,071,038                 251   \n",
       "Antigua and Barbuda          0.781       1,022,191,296                3850   \n",
       "Argentina                    0.694     110,934,442,763                2670   \n",
       "Armenia                      0.605       1,201,313,201                 357   \n",
       "Aruba                          NaN       1,320,670,391               17949   \n",
       "...                            ...                 ...                 ...   \n",
       "United Arab Emirates         0.822     180,617,018,380               34960   \n",
       "United Kingdom               0.753   1,061,388,722,256                9231   \n",
       "United States                0.841  10,284,779,000,000               19693   \n",
       "Uruguay                      0.667      12,045,631,093                1729   \n",
       "Uzbekistan                   0.594      10,128,112,401                 428   \n",
       "\n",
       "                     generation  \n",
       "country                          \n",
       "Albania                 Boomers  \n",
       "Antigua and Barbuda     Boomers  \n",
       "Argentina               Boomers  \n",
       "Armenia                 Boomers  \n",
       "Aruba                   Boomers  \n",
       "...                         ...  \n",
       "United Arab Emirates    Boomers  \n",
       "United Kingdom          Boomers  \n",
       "United States           Boomers  \n",
       "Uruguay                 Boomers  \n",
       "Uzbekistan              Boomers  \n",
       "\n",
       "[101 rows x 11 columns]"
      ]
     },
     "execution_count": 36,
     "metadata": {},
     "output_type": "execute_result"
    }
   ],
   "source": [
    "grp.min()"
   ]
  },
  {
   "cell_type": "code",
   "execution_count": 37,
   "metadata": {},
   "outputs": [
    {
     "data": {
      "text/html": [
       "<div>\n",
       "<style scoped>\n",
       "    .dataframe tbody tr th:only-of-type {\n",
       "        vertical-align: middle;\n",
       "    }\n",
       "\n",
       "    .dataframe tbody tr th {\n",
       "        vertical-align: top;\n",
       "    }\n",
       "\n",
       "    .dataframe thead th {\n",
       "        text-align: right;\n",
       "    }\n",
       "</style>\n",
       "<table border=\"1\" class=\"dataframe\">\n",
       "  <thead>\n",
       "    <tr style=\"text-align: right;\">\n",
       "      <th></th>\n",
       "      <th>year</th>\n",
       "      <th>sex</th>\n",
       "      <th>age</th>\n",
       "      <th>suicides_no</th>\n",
       "      <th>population</th>\n",
       "      <th>suicides/100k pop</th>\n",
       "      <th>country-year</th>\n",
       "      <th>HDI for year</th>\n",
       "      <th>gdp_for_year ($)</th>\n",
       "      <th>gdp_per_capita ($)</th>\n",
       "      <th>generation</th>\n",
       "    </tr>\n",
       "    <tr>\n",
       "      <th>country</th>\n",
       "      <th></th>\n",
       "      <th></th>\n",
       "      <th></th>\n",
       "      <th></th>\n",
       "      <th></th>\n",
       "      <th></th>\n",
       "      <th></th>\n",
       "      <th></th>\n",
       "      <th></th>\n",
       "      <th></th>\n",
       "      <th></th>\n",
       "    </tr>\n",
       "  </thead>\n",
       "  <tbody>\n",
       "    <tr>\n",
       "      <th>Albania</th>\n",
       "      <td>2010</td>\n",
       "      <td>male</td>\n",
       "      <td>75+ years</td>\n",
       "      <td>39</td>\n",
       "      <td>394593</td>\n",
       "      <td>18.88</td>\n",
       "      <td>Albania2010</td>\n",
       "      <td>0.722</td>\n",
       "      <td>8,992,642,349</td>\n",
       "      <td>4672</td>\n",
       "      <td>Silent</td>\n",
       "    </tr>\n",
       "    <tr>\n",
       "      <th>Antigua and Barbuda</th>\n",
       "      <td>2015</td>\n",
       "      <td>male</td>\n",
       "      <td>75+ years</td>\n",
       "      <td>2</td>\n",
       "      <td>15323</td>\n",
       "      <td>30.00</td>\n",
       "      <td>Antigua and Barbuda2015</td>\n",
       "      <td>0.783</td>\n",
       "      <td>919,577,148</td>\n",
       "      <td>16238</td>\n",
       "      <td>Silent</td>\n",
       "    </tr>\n",
       "    <tr>\n",
       "      <th>Argentina</th>\n",
       "      <td>2015</td>\n",
       "      <td>male</td>\n",
       "      <td>75+ years</td>\n",
       "      <td>745</td>\n",
       "      <td>5301368</td>\n",
       "      <td>63.01</td>\n",
       "      <td>Argentina2015</td>\n",
       "      <td>0.836</td>\n",
       "      <td>97,724,004,252</td>\n",
       "      <td>14981</td>\n",
       "      <td>Silent</td>\n",
       "    </tr>\n",
       "    <tr>\n",
       "      <th>Armenia</th>\n",
       "      <td>2016</td>\n",
       "      <td>male</td>\n",
       "      <td>75+ years</td>\n",
       "      <td>32</td>\n",
       "      <td>563626</td>\n",
       "      <td>24.82</td>\n",
       "      <td>Armenia2016</td>\n",
       "      <td>0.733</td>\n",
       "      <td>9,260,284,938</td>\n",
       "      <td>4142</td>\n",
       "      <td>Silent</td>\n",
       "    </tr>\n",
       "    <tr>\n",
       "      <th>Aruba</th>\n",
       "      <td>2011</td>\n",
       "      <td>male</td>\n",
       "      <td>75+ years</td>\n",
       "      <td>4</td>\n",
       "      <td>18313</td>\n",
       "      <td>224.97</td>\n",
       "      <td>Aruba2011</td>\n",
       "      <td>NaN</td>\n",
       "      <td>2,791,960,894</td>\n",
       "      <td>29447</td>\n",
       "      <td>Silent</td>\n",
       "    </tr>\n",
       "    <tr>\n",
       "      <th>...</th>\n",
       "      <td>...</td>\n",
       "      <td>...</td>\n",
       "      <td>...</td>\n",
       "      <td>...</td>\n",
       "      <td>...</td>\n",
       "      <td>...</td>\n",
       "      <td>...</td>\n",
       "      <td>...</td>\n",
       "      <td>...</td>\n",
       "      <td>...</td>\n",
       "      <td>...</td>\n",
       "    </tr>\n",
       "    <tr>\n",
       "      <th>United Arab Emirates</th>\n",
       "      <td>2010</td>\n",
       "      <td>male</td>\n",
       "      <td>75+ years</td>\n",
       "      <td>52</td>\n",
       "      <td>2405804</td>\n",
       "      <td>9.46</td>\n",
       "      <td>United Arab Emirates2010</td>\n",
       "      <td>0.828</td>\n",
       "      <td>315,474,615,739</td>\n",
       "      <td>48457</td>\n",
       "      <td>Silent</td>\n",
       "    </tr>\n",
       "    <tr>\n",
       "      <th>United Kingdom</th>\n",
       "      <td>2015</td>\n",
       "      <td>male</td>\n",
       "      <td>75+ years</td>\n",
       "      <td>1743</td>\n",
       "      <td>8881944</td>\n",
       "      <td>23.99</td>\n",
       "      <td>United Kingdom2015</td>\n",
       "      <td>0.907</td>\n",
       "      <td>926,884,816,754</td>\n",
       "      <td>53576</td>\n",
       "      <td>Silent</td>\n",
       "    </tr>\n",
       "    <tr>\n",
       "      <th>United States</th>\n",
       "      <td>2015</td>\n",
       "      <td>male</td>\n",
       "      <td>75+ years</td>\n",
       "      <td>11767</td>\n",
       "      <td>43805214</td>\n",
       "      <td>58.95</td>\n",
       "      <td>United States2015</td>\n",
       "      <td>0.915</td>\n",
       "      <td>9,660,624,000,000</td>\n",
       "      <td>60387</td>\n",
       "      <td>Silent</td>\n",
       "    </tr>\n",
       "    <tr>\n",
       "      <th>Uruguay</th>\n",
       "      <td>2015</td>\n",
       "      <td>male</td>\n",
       "      <td>75+ years</td>\n",
       "      <td>152</td>\n",
       "      <td>440475</td>\n",
       "      <td>115.05</td>\n",
       "      <td>Uruguay2015</td>\n",
       "      <td>0.793</td>\n",
       "      <td>9,298,839,655</td>\n",
       "      <td>18179</td>\n",
       "      <td>Silent</td>\n",
       "    </tr>\n",
       "    <tr>\n",
       "      <th>Uzbekistan</th>\n",
       "      <td>2014</td>\n",
       "      <td>male</td>\n",
       "      <td>75+ years</td>\n",
       "      <td>528</td>\n",
       "      <td>3620833</td>\n",
       "      <td>26.61</td>\n",
       "      <td>Uzbekistan2014</td>\n",
       "      <td>0.675</td>\n",
       "      <td>9,687,951,055</td>\n",
       "      <td>2309</td>\n",
       "      <td>Silent</td>\n",
       "    </tr>\n",
       "  </tbody>\n",
       "</table>\n",
       "<p>101 rows × 11 columns</p>\n",
       "</div>"
      ],
      "text/plain": [
       "                      year   sex        age  suicides_no  population  \\\n",
       "country                                                                \n",
       "Albania               2010  male  75+ years           39      394593   \n",
       "Antigua and Barbuda   2015  male  75+ years            2       15323   \n",
       "Argentina             2015  male  75+ years          745     5301368   \n",
       "Armenia               2016  male  75+ years           32      563626   \n",
       "Aruba                 2011  male  75+ years            4       18313   \n",
       "...                    ...   ...        ...          ...         ...   \n",
       "United Arab Emirates  2010  male  75+ years           52     2405804   \n",
       "United Kingdom        2015  male  75+ years         1743     8881944   \n",
       "United States         2015  male  75+ years        11767    43805214   \n",
       "Uruguay               2015  male  75+ years          152      440475   \n",
       "Uzbekistan            2014  male  75+ years          528     3620833   \n",
       "\n",
       "                      suicides/100k pop              country-year  \\\n",
       "country                                                             \n",
       "Albania                           18.88               Albania2010   \n",
       "Antigua and Barbuda               30.00   Antigua and Barbuda2015   \n",
       "Argentina                         63.01             Argentina2015   \n",
       "Armenia                           24.82               Armenia2016   \n",
       "Aruba                            224.97                 Aruba2011   \n",
       "...                                 ...                       ...   \n",
       "United Arab Emirates               9.46  United Arab Emirates2010   \n",
       "United Kingdom                    23.99        United Kingdom2015   \n",
       "United States                     58.95         United States2015   \n",
       "Uruguay                          115.05               Uruguay2015   \n",
       "Uzbekistan                        26.61            Uzbekistan2014   \n",
       "\n",
       "                      HDI for year  gdp_for_year ($)   gdp_per_capita ($)  \\\n",
       "country                                                                     \n",
       "Albania                      0.722      8,992,642,349                4672   \n",
       "Antigua and Barbuda          0.783        919,577,148               16238   \n",
       "Argentina                    0.836     97,724,004,252               14981   \n",
       "Armenia                      0.733      9,260,284,938                4142   \n",
       "Aruba                          NaN      2,791,960,894               29447   \n",
       "...                            ...                ...                 ...   \n",
       "United Arab Emirates         0.828    315,474,615,739               48457   \n",
       "United Kingdom               0.907    926,884,816,754               53576   \n",
       "United States                0.915  9,660,624,000,000               60387   \n",
       "Uruguay                      0.793      9,298,839,655               18179   \n",
       "Uzbekistan                   0.675      9,687,951,055                2309   \n",
       "\n",
       "                     generation  \n",
       "country                          \n",
       "Albania                  Silent  \n",
       "Antigua and Barbuda      Silent  \n",
       "Argentina                Silent  \n",
       "Armenia                  Silent  \n",
       "Aruba                    Silent  \n",
       "...                         ...  \n",
       "United Arab Emirates     Silent  \n",
       "United Kingdom           Silent  \n",
       "United States            Silent  \n",
       "Uruguay                  Silent  \n",
       "Uzbekistan               Silent  \n",
       "\n",
       "[101 rows x 11 columns]"
      ]
     },
     "execution_count": 37,
     "metadata": {},
     "output_type": "execute_result"
    }
   ],
   "source": [
    "grp.max()"
   ]
  },
  {
   "cell_type": "code",
   "execution_count": 38,
   "metadata": {},
   "outputs": [
    {
     "data": {
      "text/html": [
       "<div>\n",
       "<style scoped>\n",
       "    .dataframe tbody tr th:only-of-type {\n",
       "        vertical-align: middle;\n",
       "    }\n",
       "\n",
       "    .dataframe tbody tr th {\n",
       "        vertical-align: top;\n",
       "    }\n",
       "\n",
       "    .dataframe thead th {\n",
       "        text-align: right;\n",
       "    }\n",
       "</style>\n",
       "<table border=\"1\" class=\"dataframe\">\n",
       "  <thead>\n",
       "    <tr style=\"text-align: right;\">\n",
       "      <th></th>\n",
       "      <th>year</th>\n",
       "      <th>suicides_no</th>\n",
       "      <th>population</th>\n",
       "      <th>suicides/100k pop</th>\n",
       "      <th>HDI for year</th>\n",
       "      <th>gdp_per_capita ($)</th>\n",
       "    </tr>\n",
       "    <tr>\n",
       "      <th>country</th>\n",
       "      <th></th>\n",
       "      <th></th>\n",
       "      <th></th>\n",
       "      <th></th>\n",
       "      <th></th>\n",
       "      <th></th>\n",
       "    </tr>\n",
       "  </thead>\n",
       "  <tbody>\n",
       "    <tr>\n",
       "      <th>Albania</th>\n",
       "      <td>1999.5</td>\n",
       "      <td>5.0</td>\n",
       "      <td>256423.5</td>\n",
       "      <td>2.970</td>\n",
       "      <td>0.6755</td>\n",
       "      <td>1213.0</td>\n",
       "    </tr>\n",
       "    <tr>\n",
       "      <th>Antigua and Barbuda</th>\n",
       "      <td>2000.0</td>\n",
       "      <td>0.0</td>\n",
       "      <td>6531.5</td>\n",
       "      <td>0.000</td>\n",
       "      <td>0.7810</td>\n",
       "      <td>10468.0</td>\n",
       "    </tr>\n",
       "    <tr>\n",
       "      <th>Argentina</th>\n",
       "      <td>2000.0</td>\n",
       "      <td>164.0</td>\n",
       "      <td>3079573.0</td>\n",
       "      <td>5.480</td>\n",
       "      <td>0.7930</td>\n",
       "      <td>7918.0</td>\n",
       "    </tr>\n",
       "    <tr>\n",
       "      <th>Armenia</th>\n",
       "      <td>2002.0</td>\n",
       "      <td>4.0</td>\n",
       "      <td>272947.0</td>\n",
       "      <td>1.780</td>\n",
       "      <td>0.7220</td>\n",
       "      <td>788.0</td>\n",
       "    </tr>\n",
       "    <tr>\n",
       "      <th>Aruba</th>\n",
       "      <td>2004.5</td>\n",
       "      <td>0.0</td>\n",
       "      <td>6810.5</td>\n",
       "      <td>0.000</td>\n",
       "      <td>NaN</td>\n",
       "      <td>24501.5</td>\n",
       "    </tr>\n",
       "    <tr>\n",
       "      <th>...</th>\n",
       "      <td>...</td>\n",
       "      <td>...</td>\n",
       "      <td>...</td>\n",
       "      <td>...</td>\n",
       "      <td>...</td>\n",
       "      <td>...</td>\n",
       "    </tr>\n",
       "    <tr>\n",
       "      <th>United Arab Emirates</th>\n",
       "      <td>2007.5</td>\n",
       "      <td>3.0</td>\n",
       "      <td>319077.5</td>\n",
       "      <td>1.160</td>\n",
       "      <td>0.8250</td>\n",
       "      <td>43653.0</td>\n",
       "    </tr>\n",
       "    <tr>\n",
       "      <th>United Kingdom</th>\n",
       "      <td>2000.0</td>\n",
       "      <td>236.0</td>\n",
       "      <td>4121212.5</td>\n",
       "      <td>4.845</td>\n",
       "      <td>0.8955</td>\n",
       "      <td>29508.0</td>\n",
       "    </tr>\n",
       "    <tr>\n",
       "      <th>United States</th>\n",
       "      <td>2000.0</td>\n",
       "      <td>2193.0</td>\n",
       "      <td>20375469.0</td>\n",
       "      <td>6.890</td>\n",
       "      <td>0.9030</td>\n",
       "      <td>39218.0</td>\n",
       "    </tr>\n",
       "    <tr>\n",
       "      <th>Uruguay</th>\n",
       "      <td>2000.5</td>\n",
       "      <td>27.0</td>\n",
       "      <td>254745.5</td>\n",
       "      <td>9.710</td>\n",
       "      <td>0.7560</td>\n",
       "      <td>6691.0</td>\n",
       "    </tr>\n",
       "    <tr>\n",
       "      <th>Uzbekistan</th>\n",
       "      <td>2000.5</td>\n",
       "      <td>83.5</td>\n",
       "      <td>1963963.0</td>\n",
       "      <td>6.180</td>\n",
       "      <td>0.6610</td>\n",
       "      <td>714.0</td>\n",
       "    </tr>\n",
       "  </tbody>\n",
       "</table>\n",
       "<p>101 rows × 6 columns</p>\n",
       "</div>"
      ],
      "text/plain": [
       "                        year  suicides_no  population  suicides/100k pop  \\\n",
       "country                                                                    \n",
       "Albania               1999.5          5.0    256423.5              2.970   \n",
       "Antigua and Barbuda   2000.0          0.0      6531.5              0.000   \n",
       "Argentina             2000.0        164.0   3079573.0              5.480   \n",
       "Armenia               2002.0          4.0    272947.0              1.780   \n",
       "Aruba                 2004.5          0.0      6810.5              0.000   \n",
       "...                      ...          ...         ...                ...   \n",
       "United Arab Emirates  2007.5          3.0    319077.5              1.160   \n",
       "United Kingdom        2000.0        236.0   4121212.5              4.845   \n",
       "United States         2000.0       2193.0  20375469.0              6.890   \n",
       "Uruguay               2000.5         27.0    254745.5              9.710   \n",
       "Uzbekistan            2000.5         83.5   1963963.0              6.180   \n",
       "\n",
       "                      HDI for year  gdp_per_capita ($)  \n",
       "country                                                 \n",
       "Albania                     0.6755              1213.0  \n",
       "Antigua and Barbuda         0.7810             10468.0  \n",
       "Argentina                   0.7930              7918.0  \n",
       "Armenia                     0.7220               788.0  \n",
       "Aruba                          NaN             24501.5  \n",
       "...                            ...                 ...  \n",
       "United Arab Emirates        0.8250             43653.0  \n",
       "United Kingdom              0.8955             29508.0  \n",
       "United States               0.9030             39218.0  \n",
       "Uruguay                     0.7560              6691.0  \n",
       "Uzbekistan                  0.6610               714.0  \n",
       "\n",
       "[101 rows x 6 columns]"
      ]
     },
     "execution_count": 38,
     "metadata": {},
     "output_type": "execute_result"
    }
   ],
   "source": [
    "grp.median()"
   ]
  }
 ],
 "metadata": {
  "kernelspec": {
   "display_name": "Python 3",
   "language": "python",
   "name": "python3"
  },
  "language_info": {
   "codemirror_mode": {
    "name": "ipython",
    "version": 3
   },
   "file_extension": ".py",
   "mimetype": "text/x-python",
   "name": "python",
   "nbconvert_exporter": "python",
   "pygments_lexer": "ipython3",
   "version": "3.8.5"
  }
 },
 "nbformat": 4,
 "nbformat_minor": 4
}
