{
  "nbformat": 4,
  "nbformat_minor": 0,
  "metadata": {
    "colab": {
      "name": "B4-age and gender detection on youtube videos",
      "provenance": [],
      "collapsed_sections": []
    },
    "kernelspec": {
      "display_name": "Python 3",
      "name": "python3"
    },
    "language_info": {
      "name": "python"
    }
  },
  "cells": [
    {
      "cell_type": "code",
      "metadata": {
        "colab": {
          "base_uri": "https://localhost:8080/"
        },
        "id": "2YauCrsdnlKo",
        "outputId": "7f846fc6-7002-495d-897c-c933d975ccfe"
      },
      "source": [
        "!pip install pafy\n",
        "!pip install youtube-dl "
      ],
      "execution_count": null,
      "outputs": [
        {
          "output_type": "stream",
          "text": [
            "Requirement already satisfied: pafy in /usr/local/lib/python3.7/dist-packages (0.5.5)\n",
            "Requirement already satisfied: youtube-dl in /usr/local/lib/python3.7/dist-packages (2021.5.16)\n"
          ],
          "name": "stdout"
        }
      ]
    },
    {
      "cell_type": "code",
      "metadata": {
        "colab": {
          "base_uri": "https://localhost:8080/"
        },
        "id": "C6tvgiuzn4iX",
        "outputId": "20be7b1b-8277-4957-a39a-44ac43656498"
      },
      "source": [
        "from google.colab import drive\n",
        "drive.mount('/content/drive')"
      ],
      "execution_count": null,
      "outputs": [
        {
          "output_type": "stream",
          "text": [
            "Drive already mounted at /content/drive; to attempt to forcibly remount, call drive.mount(\"/content/drive\", force_remount=True).\n"
          ],
          "name": "stdout"
        }
      ]
    },
    {
      "cell_type": "code",
      "metadata": {
        "id": "NTSBi3s8n83O"
      },
      "source": [
        "\n",
        "import time\n",
        "\n",
        "t_end = time.time() + 60"
      ],
      "execution_count": null,
      "outputs": []
    },
    {
      "cell_type": "code",
      "metadata": {
        "colab": {
          "background_save": true
        },
        "id": "fsxMrBbcoLEU"
      },
      "source": [
        "import cv2\n",
        "import numpy as np\n",
        "import pafy\n",
        "import time\n",
        "\n",
        "from google.colab.patches import cv2_imshow\n",
        "fourcc = cv2.VideoWriter_fourcc(*'XVID')\n",
        "w, h = 1280,720\n",
        "fourcc = cv2.VideoWriter_fourcc('m', 'p', '4', 'v')\n",
        "output_movie = cv2.VideoWriter('/content/Detected_Laser_Pointer2.avi', fourcc, 30, (w, h))\n",
        "\n",
        "#url of the video to predict Age and gender\n",
        "url = 'https://www.youtube.com/watch?v=iH1ZJVqJO3Y'\n",
        "vPafy = pafy.new(url)\n",
        "play = vPafy.getbest(preftype=\"mp4\")\n",
        "\n",
        "cap = cv2.VideoCapture(play.url)\n",
        "\n",
        "cap.set(3, 480) #set width of the frame\n",
        "cap.set(4, 640) #set height of the frame\n",
        "\n",
        "MODEL_MEAN_VALUES = (78.4263377603, 87.7689143744, 114.895847746)\n",
        "\n",
        "age_list = ['(0, 2)', '(4, 6)', '(8, 12)', '(15, 20)', '(25, 32)', '(38, 43)', '(48, 53)', '(60, 100)']\n",
        "\n",
        "gender_list = ['Male', 'Female']\n",
        "\n",
        "def load_caffe_models():\n",
        " \n",
        "  age_net = cv2.dnn.readNetFromCaffe('/content/drive/MyDrive/SoC2k21/New folder/My_PreTrained/deploy_age.prototxt', '/content/drive/MyDrive/SoC2k21/New folder/My_PreTrained/age_net.caffemodel')\n",
        "  \n",
        "  gender_net = cv2.dnn.readNetFromCaffe('/content/drive/MyDrive/SoC2k21/New folder/My_PreTrained/deploy_gender.prototxt', '/content/drive/MyDrive/SoC2k21/New folder/My_PreTrained/gender_net.caffemodel')\n",
        "\n",
        "  return (age_net, gender_net)\n",
        "\n",
        "def video_detector(age_net, gender_net):\n",
        "\n",
        "  font = cv2.FONT_HERSHEY_SIMPLEX\n",
        "\n",
        "  while time.time() < t_end:    \n",
        "\n",
        "    ret, image = cap.read()\n",
        "          \n",
        "    face_cascade = cv2.CascadeClassifier('haarcascade_frontalface_alt.xml')\n",
        "    face_cascade = cv2.CascadeClassifier(cv2.data.haarcascades + 'haarcascade_frontalface_alt.xml')\n",
        "    eye_cascade = cv2.CascadeClassifier(cv2.data.haarcascades + 'haarcascade_eye.xml')\n",
        "      \n",
        "    \n",
        "    gray = cv2.cvtColor(image, cv2.COLOR_BGR2GRAY)\n",
        "    cv2_imshow(gray)\n",
        "    faces = face_cascade.detectMultiScale(gray, 1.1, 5)\n",
        "\n",
        "    if(len(faces)>0):\n",
        "      print(\"Found {} faces\".format(str(len(faces))))\n",
        "\n",
        "    for (x, y, w, h )in faces:\n",
        "      cv2.rectangle(image, (x, y), (x+w, y+h), (255, 255, 0), 2)\n",
        "\n",
        "    #Get Face \n",
        "      face_img = image[y:y+h, h:h+w].copy()\n",
        "      blob = cv2.dnn.blobFromImage(face_img, 1, (227, 227), MODEL_MEAN_VALUES, swapRB=False)\n",
        "\n",
        "    #Predict Gender\n",
        "      gender_net.setInput(blob)\n",
        "      gender_preds = gender_net.forward()\n",
        "      gender = gender_list[gender_preds[0].argmax()]\n",
        "      print(\"Gender : \" + gender)\n",
        "\n",
        "    #Predict Age\n",
        "      age_net.setInput(blob)\n",
        "      age_preds = age_net.forward()\n",
        "      age = age_list[age_preds[0].argmax()]\n",
        "      print(\"Age Range: \" + age)\n",
        "\n",
        "      overlay_text = \"%s %s\" % (gender, age)\n",
        "      cv2.putText(image, overlay_text, (x, y), font, 1, (255, 255, 255), 2, cv2.LINE_AA)\n",
        "    print(np.shape(image))\n",
        "    image = cv2.cvtColor(image,cv2.COLOR_BGR2GRAY)\n",
        "    output_movie.write(image)\n",
        "    \n",
        "  \n",
        "    #cv2.imshow('frame', image)  \n",
        "    #0xFF is a hexadecimal constant which is 11111111 in binary.\n",
        "    if cv2.waitKey(1) & 0xFF == ord('q'):\n",
        "      break\n",
        "   \n",
        "output_movie.release()\n",
        "age_net, gender_net = load_caffe_models()\n",
        "\n",
        "video_detector(age_net, gender_net)"
      ],
      "execution_count": null,
      "outputs": []
    },
    {
      "cell_type": "code",
      "metadata": {
        "id": "GjqcP8uYoVmu"
      },
      "source": [
        ""
      ],
      "execution_count": null,
      "outputs": []
    },
    {
      "cell_type": "code",
      "metadata": {
        "id": "hSOzg2H3svxx"
      },
      "source": [
        ""
      ],
      "execution_count": null,
      "outputs": []
    }
  ]
}